{
  "nbformat": 4,
  "nbformat_minor": 0,
  "metadata": {
    "colab": {
      "provenance": [],
      "authorship_tag": "ABX9TyMzDLeh8QCbLsA3/xQ0g9A5",
      "include_colab_link": true
    },
    "kernelspec": {
      "name": "python3",
      "display_name": "Python 3"
    },
    "language_info": {
      "name": "python"
    }
  },
  "cells": [
    {
      "cell_type": "markdown",
      "metadata": {
        "id": "view-in-github",
        "colab_type": "text"
      },
      "source": [
        "<a href=\"https://colab.research.google.com/github/ShabnamShaikh2614/Spam-Email-detection/blob/main/SpamemailDetection.ipynb\" target=\"_parent\"><img src=\"https://colab.research.google.com/assets/colab-badge.svg\" alt=\"Open In Colab\"/></a>"
      ]
    },
    {
      "cell_type": "markdown",
      "source": [
        "# **Email Spam Detection-** **Using Linear regeration**"
      ],
      "metadata": {
        "id": "8Rg0LvBw5m9S"
      }
    },
    {
      "cell_type": "markdown",
      "source": [
        "**Email Classifier using scikit-learn and basic dataset**\n",
        "\n",
        "\n",
        "*   **scikit-learn:**\n",
        "       It is Powerfull library for machine learning.\n",
        "\n",
        "       Provides tools for:\n",
        "\n",
        "\n",
        "         1.   Data prepocessing\n",
        "         2.   Classification (e.g, Navie Bayes, SVM)\n",
        "         3.   Regression\n",
        "         4.   Clustering\n",
        "         5.  Model Evaluation\n",
        "      Easy to use and widely used in real-world ML projects.\n",
        "\n",
        "\n",
        "*   **Naive Bayes:**\n",
        "          A classification alogorithm based on Bayes Theorem.\n",
        "          Assumes that all features are independent\n",
        "          very fast and works well for text classification like:\n",
        "           \n",
        "          1.   Spam detection\n",
        "          2.   Sentiment analysis\n",
        "        Types : Guassian, multinomial, Bernoulli\n",
        "        (Multinomial is used for text)\n",
        "\n",
        "\n",
        "\n"
      ],
      "metadata": {
        "id": "w_NButgCXI2i"
      }
    },
    {
      "cell_type": "code",
      "source": [
        "###Logistic Regression#####\n",
        "#Step 1: importing Libraries\n",
        "import pandas as pd\n",
        "from sklearn.model_selection import train_test_split\n",
        "from sklearn.feature_extraction.text import CountVectorizer\n",
        "from sklearn.naive_bayes import MultinomialNB\n",
        "from sklearn.metrics import accuracy_score,confusion_matrix,classification_report\n",
        "\n",
        "\n",
        "#Step 2: Creating Sample dataset\n",
        "data={\n",
        "    'text':[\n",
        "        'Win money now!',\n",
        "        'Hello, how are you?',\n",
        "        'Claim your free prize now',\n",
        "        'lets meet tomorrow',\n",
        "        'Free entry in a contest',\n",
        "        'Are we still on for dinner',\n",
        "        'Congratulations, you have won a lottery',\n",
        "        'Hi, call me when you get this message',\n",
        "        'Exclusive offer: Get a free trial!',\n",
        "        'Meeting rescheduled to 3 PM',\n",
        "        'Your account has been credited',\n",
        "        'Can you send me the report?',\n",
        "        'Big discounts just for you',\n",
        "        'Reminder about our meeting',\n",
        "        'Click here to claim your reward',\n",
        "        'Please review the document',\n",
        "        'You have a new message',\n",
        "        'Urgent: Your account is compromised',\n",
        "        'Dinner plans confirmed',\n",
        "        'Limited time offer: Don\\'t miss out!'\n",
        "\n",
        "    ],\n",
        "    'label':[1,0,1,0,1,0,1,0,1,0,1,0,1,0,1,0,0,1,0,1] #1:spam,0:ham\n",
        "\n",
        "}\n",
        "df=pd.DataFrame(data)\n",
        "\n",
        "# Step to save the DataFrame to a CSV file (as requested previously)\n",
        "df.to_csv('email_data.csv', index=False)\n",
        "\n",
        "\n",
        "#Step 3: Split the data\n",
        "x_train, x_test, y_train,y_test=train_test_split(df['text'],df['label'],test_size=0.3,random_state=42)\n",
        "\n",
        "#Step 4: Text Vectorization\n",
        "vectorizer = CountVectorizer()\n",
        "x_train_vec=vectorizer.fit_transform(x_train)\n",
        "x_test_vec=vectorizer.transform(x_test)\n",
        "\n",
        "#Step 5: Train model\n",
        "model= MultinomialNB()\n",
        "model.fit(x_train_vec,y_train)\n",
        "\n",
        "#Step 6: Evaluation\n",
        "y_pred=model.predict(x_test_vec)\n",
        "print(\"Accuracy:\",accuracy_score(y_test, y_pred))\n",
        "print(\"\\n Classification Report:\\n\")\n",
        "print(classification_report(y_test, y_pred))\n",
        "\n",
        "#Step 7: Test on new messsage\n",
        "sample =[\"You have won a free ticket!\"]\n",
        "sample_vec= vectorizer.transform(sample)\n",
        "prediction = model.predict(sample_vec)[0]\n",
        "\n",
        "# Use an if-else statement to print the desired output\n",
        "if prediction == 1:\n",
        "    print(\"\\n Prediction for sample: Spam detected\")\n",
        "else:\n",
        "    print(\"\\n Prediction for sample: Not spam detected\")"
      ],
      "metadata": {
        "colab": {
          "base_uri": "https://localhost:8080/"
        },
        "id": "XomPFOREfMw4",
        "outputId": "224da53a-d473-49ad-bf44-9dd988b894b4"
      },
      "execution_count": null,
      "outputs": [
        {
          "output_type": "stream",
          "name": "stdout",
          "text": [
            "Accuracy: 1.0\n",
            "\n",
            " Classification Report:\n",
            "\n",
            "              precision    recall  f1-score   support\n",
            "\n",
            "           0       1.00      1.00      1.00         3\n",
            "           1       1.00      1.00      1.00         3\n",
            "\n",
            "    accuracy                           1.00         6\n",
            "   macro avg       1.00      1.00      1.00         6\n",
            "weighted avg       1.00      1.00      1.00         6\n",
            "\n",
            "\n",
            " Prediction for sample: Spam detected\n"
          ]
        }
      ]
    }
  ]
}